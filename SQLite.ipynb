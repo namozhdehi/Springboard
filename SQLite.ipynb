{
 "cells": [
  {
   "cell_type": "code",
   "execution_count": 2,
   "id": "f07ed2d6",
   "metadata": {},
   "outputs": [
    {
     "data": {
      "text/plain": [
       "8"
      ]
     },
     "execution_count": 2,
     "metadata": {},
     "output_type": "execute_result"
    }
   ],
   "source": [
    "import sqlite3\n",
    "\n",
    "# Connect to SQLite database (or create it if it doesn't exist)\n",
    "conn = sqlite3.connect('country_club.db')\n",
    "cursor = conn.cursor()\n",
    "\n",
    "# Create tables and import data\n",
    "# For simplicity, assuming CSV format is used for export\n",
    "import pandas as pd\n",
    "\n",
    "# Load CSV data into Pandas DataFrames\n",
    "bookings = pd.read_csv('bookings.csv')\n",
    "members = pd.read_csv('members.csv')\n",
    "facilities = pd.read_csv('facilities.csv')\n",
    "\n",
    "# Write data to SQLite database\n",
    "bookings.to_sql('Bookings', conn, if_exists='replace', index=False)\n",
    "members.to_sql('Members', conn, if_exists='replace', index=False)\n",
    "facilities.to_sql('Facilities', conn, if_exists='replace', index=False)\n"
   ]
  },
  {
   "cell_type": "code",
   "execution_count": 3,
   "id": "5e4cb365",
   "metadata": {},
   "outputs": [],
   "source": [
    "import sqlite3\n",
    "\n",
    "# Connect to the SQLite database\n",
    "conn = sqlite3.connect('country_club.db')\n",
    "\n",
    "# Create a cursor object\n",
    "cursor = conn.cursor()\n"
   ]
  },
  {
   "cell_type": "code",
   "execution_count": null,
   "id": "e1b33018",
   "metadata": {},
   "outputs": [],
   "source": [
    "import pandas as pd\n",
    "\n",
    "# Q10: Produce a list of facilities with a total revenue less than 1000.\n",
    "\n",
    "query = \"\"\"\n",
    "SELECT f.name AS facility,\n",
    "       SUM(CASE \n",
    "               WHEN b.memid = 0 THEN b.slots * f.guestcost \n",
    "               ELSE b.slots * f.membercost \n",
    "           END) AS total_revenue\n",
    "FROM Bookings b\n",
    "JOIN Facilities f ON b.facid = f.facid\n",
    "GROUP BY f.name\n",
    "HAVING total_revenue < 1000\n",
    "ORDER BY total_revenue;\n",
    "\"\"\"\n",
    "\n",
    "# Execute the query and load the results into a DataFrame\n",
    "result = pd.read_sql_query(query, conn)\n",
    "\n",
    "# Display the results\n",
    "print(result)"
   ]
  },
  {
   "cell_type": "code",
   "execution_count": null,
   "id": "7f49ef6c",
   "metadata": {},
   "outputs": [],
   "source": [
    "# Q11: Produce a report of members and who recommended them in alphabetic surname,firstname order\n",
    "query = \"\"\"\n",
    "SELECT m1.surname AS member_surname,\n",
    "       m1.firstname AS member_firstname,\n",
    "       m2.surname AS recommender_surname,\n",
    "       m2.firstname AS recommender_firstname\n",
    "FROM Members m1\n",
    "LEFT JOIN Members m2 ON m1.recommendedby = m2.memid\n",
    "ORDER BY m1.surname, m1.firstname;\n",
    "\"\"\"\n",
    "\n",
    "# Execute the query and load the results into a DataFrame\n",
    "result = pd.read_sql_query(query, conn)\n",
    "\n",
    "# Display the results\n",
    "print(result)"
   ]
  },
  {
   "cell_type": "code",
   "execution_count": null,
   "id": "f90141a8",
   "metadata": {},
   "outputs": [],
   "source": [
    "# Q12: Find the facilities with their usage by member, but not guests\n",
    "query = \"\"\"\n",
    "SELECT f.name AS facility,\n",
    "       SUM(b.slots) AS member_usage\n",
    "FROM Bookings b\n",
    "JOIN Facilities f ON b.facid = f.facid\n",
    "WHERE b.memid != 0  -- Exclude guests\n",
    "GROUP BY f.name;\n",
    "\"\"\"\n",
    "\n",
    "# Execute the query and load the results into a DataFrame\n",
    "result = pd.read_sql_query(query, conn)\n",
    "\n",
    "# Display the results\n",
    "print(result)"
   ]
  },
  {
   "cell_type": "code",
   "execution_count": null,
   "id": "74e42118",
   "metadata": {},
   "outputs": [],
   "source": [
    "# Q13: Find the facilities usage by month, but not guests \n",
    "query = \"\"\"\n",
    "SELECT f.name AS facility,\n",
    "       STRFTIME('%Y-%m', b.starttime) AS month,\n",
    "       SUM(b.slots) AS member_usage\n",
    "FROM Bookings b\n",
    "JOIN Facilities f ON b.facid = f.facid\n",
    "WHERE b.memid != 0  -- Exclude guests\n",
    "GROUP BY f.name, month\n",
    "ORDER BY facility, month;\n",
    "\"\"\"\n",
    "\n",
    "# Execute the query and load the results into a DataFrame\n",
    "result = pd.read_sql_query(query, conn)\n",
    "\n",
    "# Display the results\n",
    "print(result)"
   ]
  }
 ],
 "metadata": {
  "kernelspec": {
   "display_name": "Python 3 (ipykernel)",
   "language": "python",
   "name": "python3"
  },
  "language_info": {
   "codemirror_mode": {
    "name": "ipython",
    "version": 3
   },
   "file_extension": ".py",
   "mimetype": "text/x-python",
   "name": "python",
   "nbconvert_exporter": "python",
   "pygments_lexer": "ipython3",
   "version": "3.9.12"
  }
 },
 "nbformat": 4,
 "nbformat_minor": 5
}
